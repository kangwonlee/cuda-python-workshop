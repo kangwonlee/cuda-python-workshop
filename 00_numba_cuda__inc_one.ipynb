{
 "nbformat": 4,
 "nbformat_minor": 0,
 "metadata": {
  "colab": {
   "private_outputs": true,
   "provenance": [
    {
     "file_id": "1pLw1tSLqNV_pr7cxzKy_sq7aSBjgijpe",
     "timestamp": 1734261161162
    }
   ],
   "gpuType": "T4",
   "authorship_tag": "ABX9TyP1T61DwFuP/8bGfT0Juica"
  },
  "kernelspec": {
   "name": "python3",
   "display_name": "Python 3"
  },
  "language_info": {
   "name": "python"
  },
  "accelerator": "GPU"
 },
 "cells": [
  {
   "cell_type": "markdown",
   "metadata": {
    "id": "view-in-github",
    "colab_type": "text"
   },
   "source": [
    "<a href=\"https://colab.research.google.com/github/kangwonlee/cuda-python-workshop/blob/main/00_numba_cuda__inc_one.ipynb\" target=\"_parent\"><img src=\"https://colab.research.google.com/assets/colab-badge.svg\" alt=\"Open In Colab\"/></a>\n"
   ]
  },
  {
   "cell_type": "markdown",
   "source": [
    "## CUDA Python Exercise<br>CUDA Python 실습\n",
    "* I got help from Google Gemini while preparing for this exercise<br>이 교재 작성에 Google Gemini 의 도움을 받았음\n"
   ],
   "metadata": {}
  },
  {
   "cell_type": "markdown",
   "source": [
    "* On the right side of RAM and Disk, Click on the downward triangle. Choose \"Change Runtime Type\"<br>RAM과 디스크 오른쪽의 아래 향한 삼각형 메뉴에서 \"런타임 유형 변경\" 선택\n",
    "* Choose \"T4 GPU\" of \"Hardware Accelerator\"<br>\"하드웨어 가속기\" 에서 \"T4 GPU\" 선택\n",
    "\n"
   ],
   "metadata": {}
  },
  {
   "cell_type": "code",
   "source": [
    "import math\n",
    "\n",
    "\n",
    "import numba\n",
    "import numba.cuda\n",
    "import numpy as np\n",
    "\n",
    "import torch\n",
    "\n",
    "numba.cuda.is_available(), torch.cuda.is_available()\n",
    "\n"
   ],
   "metadata": {},
   "execution_count": null,
   "outputs": []
  },
  {
   "cell_type": "code",
   "source": [
    "if torch.cuda.is_available():\n",
    "    print(f\"Number of GPUs available: {torch.cuda.device_count()}\")\n",
    "    print(f\"Current GPU name: {torch.cuda.get_device_name(0)}\")\n",
    "\n"
   ],
   "metadata": {},
   "execution_count": null,
   "outputs": []
  },
  {
   "cell_type": "markdown",
   "source": [
    "* Display detailed GPU information<br>자세한 GPU 정보\n",
    "\n"
   ],
   "metadata": {}
  },
  {
   "cell_type": "code",
   "source": [
    "!nvidia-smi -L\n",
    "\n"
   ],
   "metadata": {},
   "execution_count": null,
   "outputs": []
  },
  {
   "cell_type": "markdown",
   "source": [
    "* Convert polar coordinate to carteisan coordinate<br>극좌표를 직교좌표로 변환\n",
    "\n"
   ],
   "metadata": {}
  },
  {
   "cell_type": "code",
   "source": [
    "def inc_by_one_np(x):\n",
    "  x += 1\n",
    "\n"
   ],
   "metadata": {},
   "execution_count": null,
   "outputs": []
  },
  {
   "cell_type": "markdown",
   "source": [
    "* Same function using CUDA (GPU Acceleration)<br>같은 함수를 CUDA로 다시 씀\n",
    "\n"
   ],
   "metadata": {}
  },
  {
   "cell_type": "code",
   "source": [
    "@numba.cuda.jit\n",
    "def inc_by_one_gpu(x_dev):\n",
    "  idx = numba.cuda.grid(1)\n",
    "  x_dev[idx] += 1\n",
    "\n"
   ],
   "metadata": {},
   "execution_count": null,
   "outputs": []
  },
  {
   "cell_type": "markdown",
   "source": [
    "* Prepare data<br>연산 대상 자료 준비\n"
   ],
   "metadata": {}
  },
  {
   "cell_type": "code",
   "source": [
    "n = 1024 * 1024\n",
    "x0 = np.random.randint(0, 127, size=n)\n",
    "x1 = np.random.randint(0, 127, size=n)\n",
    "x0_copy = x0.copy()\n",
    "x1_copy = x1.copy()\n",
    "\n"
   ],
   "metadata": {},
   "execution_count": null,
   "outputs": []
  },
  {
   "cell_type": "code",
   "source": [
    "%%timeit\n",
    "inc_by_one_np(x0_copy)\n",
    "\n"
   ],
   "metadata": {},
   "execution_count": null,
   "outputs": []
  },
  {
   "cell_type": "markdown",
   "source": [
    "* Transfer data to GPU<br>Data를 GPU 로 옮김\n",
    "\n"
   ],
   "metadata": {}
  },
  {
   "cell_type": "code",
   "source": [
    "x0_dev = numba.cuda.to_device(x0)\n",
    "x1_dev = numba.cuda.to_device(x1)\n",
    "\n"
   ],
   "metadata": {},
   "execution_count": null,
   "outputs": []
  },
  {
   "cell_type": "code",
   "source": [
    "%%timeit\n",
    "inc_by_one_gpu[256, 1024](x0_dev)\n",
    "\n"
   ],
   "metadata": {},
   "execution_count": null,
   "outputs": []
  },
  {
   "cell_type": "code",
   "source": [],
   "metadata": {},
   "execution_count": null,
   "outputs": []
  }
 ]
}