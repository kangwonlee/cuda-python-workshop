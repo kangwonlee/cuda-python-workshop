{
 "nbformat": 4,
 "nbformat_minor": 0,
 "metadata": {
  "colab": {
   "private_outputs": true,
   "provenance": [],
   "gpuType": "T4"
  },
  "kernelspec": {
   "name": "python3",
   "display_name": "Python 3"
  },
  "language_info": {
   "name": "python"
  },
  "accelerator": "GPU"
 },
 "cells": [
  {
   "cell_type": "markdown",
   "metadata": {
    "id": "view-in-github",
    "colab_type": "text"
   },
   "source": [
    "<a href=\"https://colab.research.google.com/github/kangwonlee/cuda-python-workshop/blob/main/10_numba_cuda__torch.ipynb\" target=\"_parent\"><img src=\"https://colab.research.google.com/assets/colab-badge.svg\" alt=\"Open In Colab\"/></a>\n"
   ]
  },
  {
   "cell_type": "markdown",
   "source": [
    "## CUDA Python Exercise<br>CUDA Python 실습\n",
    "* I got help from Google Gemini while preparing for this exercise<br>이 교재 작성에 Google Gemini 의 도움을 받았음\n"
   ],
   "metadata": {}
  },
  {
   "cell_type": "markdown",
   "source": [
    "* On the right side of RAM and Disk, Click on the downward triangle. Choose \"Change Runtime Type\"<br>RAM과 디스크 오른쪽의 아래 향한 삼각형 메뉴에서 \"런타임 유형 변경\" 선택\n",
    "* Choose \"T4 GPU\" of \"Hardware Accelerator\"<br>\"하드웨어 가속기\" 에서 \"T4 GPU\" 선택\n",
    "\n"
   ],
   "metadata": {}
  },
  {
   "cell_type": "code",
   "source": [
    "import pathlib\n",
    "import time\n",
    "\n",
    "\n",
    "import numba\n",
    "import numba.cuda\n",
    "import numpy as np\n",
    "import pandas as pd\n",
    "\n",
    "from numba import cuda\n",
    "\n"
   ],
   "metadata": {},
   "execution_count": null,
   "outputs": []
  },
  {
   "cell_type": "code",
   "source": [
    "sample_data = pathlib.Path(\"sample_data\")\n",
    "assert sample_data.exists()\n",
    "assert sample_data.is_dir()\n",
    "\n"
   ],
   "metadata": {},
   "execution_count": null,
   "outputs": []
  },
  {
   "cell_type": "code",
   "source": [
    "mnist_train_small_path = sample_data / \"mnist_train_small.csv\"\n",
    "mnist_test_path = sample_data / \"mnist_test.csv\"\n",
    "\n"
   ],
   "metadata": {},
   "execution_count": null,
   "outputs": []
  },
  {
   "cell_type": "code",
   "source": [
    "def load_sample_data(path, delimiter=\",\"):\n",
    "  array = np.loadtxt(path, delimiter=delimiter)\n",
    "  mnist_train_label = array[:, 0]\n",
    "  mnist_train_data = array[:, 1:]\n",
    "  return mnist_train_data, mnist_train_label\n",
    "\n"
   ],
   "metadata": {},
   "execution_count": null,
   "outputs": []
  },
  {
   "cell_type": "code",
   "source": [
    "x_train, y_train = load_sample_data(mnist_train_small_path)\n",
    "x_train.shape, y_train.shape\n",
    "\n"
   ],
   "metadata": {},
   "execution_count": null,
   "outputs": []
  },
  {
   "cell_type": "code",
   "source": [
    "x_test, y_test = load_sample_data(mnist_test_path)\n",
    "x_test.shape, y_test.shape\n",
    "\n"
   ],
   "metadata": {},
   "execution_count": null,
   "outputs": []
  },
  {
   "cell_type": "code",
   "source": [],
   "metadata": {},
   "execution_count": null,
   "outputs": []
  }
 ]
}